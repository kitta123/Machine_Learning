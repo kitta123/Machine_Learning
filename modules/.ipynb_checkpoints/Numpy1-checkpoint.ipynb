{
 "cells": [
  {
   "cell_type": "code",
   "execution_count": 1,
   "metadata": {},
   "outputs": [],
   "source": [
    "import numpy as np\n",
    "#NumPy arrays are more efficient than python lists when it comes to numerical operations."
   ]
  },
  {
   "cell_type": "code",
   "execution_count": 2,
   "metadata": {},
   "outputs": [
    {
     "name": "stdout",
     "output_type": "stream",
     "text": [
      "[1 2 3 4 5 6]\n",
      "<class 'list'>\n",
      "<class 'numpy.ndarray'>\n"
     ]
    }
   ],
   "source": [
    "#Converting List to Array \n",
    "list = [1,2,3,4,5,6]\n",
    "array = np.array(list)\n",
    "print(array)\n",
    "print(type(list))\n",
    "print(type(array))"
   ]
  },
  {
   "cell_type": "code",
   "execution_count": 3,
   "metadata": {},
   "outputs": [
    {
     "name": "stdout",
     "output_type": "stream",
     "text": [
      "[51 52 53 54 55 56]\n"
     ]
    }
   ],
   "source": [
    "#Mathematical operations on an array.\n",
    "#[+,-,*,/,%,//]\n",
    "list = [1,2,3,4,5,6]\n",
    "array = np.array(list)\n",
    "array += 50\n",
    "print(array)"
   ]
  },
  {
   "cell_type": "code",
   "execution_count": 4,
   "metadata": {},
   "outputs": [
    {
     "name": "stdout",
     "output_type": "stream",
     "text": [
      "(6,)\n",
      "int64\n"
     ]
    }
   ],
   "source": [
    "list = [1,2,3,4,5,6]\n",
    "array = np.array(list)\n",
    "print(array.shape)\n",
    "print(array.dtype)"
   ]
  },
  {
   "cell_type": "code",
   "execution_count": 5,
   "metadata": {},
   "outputs": [
    {
     "name": "stdout",
     "output_type": "stream",
     "text": [
      "(2, 3)\n",
      "(3, 3)\n"
     ]
    }
   ],
   "source": [
    "#Multi Dimentional Arrays\n",
    "twoD_array = np.array(([1,2,3],\n",
    "                      [4,5,6]))\n",
    "print(np.shape(twoD_array))\n",
    "\n",
    "threeD_array = np.array(([1,2,3],[4,5,6],[7,8,9]))\n",
    "print(np.shape(threeD_array))"
   ]
  },
  {
   "cell_type": "code",
   "execution_count": 6,
   "metadata": {},
   "outputs": [
    {
     "name": "stdout",
     "output_type": "stream",
     "text": [
      "[[0 0 0]\n",
      " [0 0 0]\n",
      " [0 0 0]]\n",
      "[[1 1 1]\n",
      " [1 1 1]\n",
      " [1 1 1]]\n"
     ]
    }
   ],
   "source": [
    "#Creating a matrix full of zeros or ones.\n",
    "#Shape : is the shape of the array\n",
    "#Dtype : is the datatype.it is optional.the default value is float64\n",
    "#Order : Default is C which is an essential row style.\n",
    "a = np.zeros((3,3),dtype = int,order=\"C\")\n",
    "print(a)\n",
    "b = np.ones((3,3),dtype = int,order=\"C\")\n",
    "print(b)"
   ]
  },
  {
   "cell_type": "code",
   "execution_count": 7,
   "metadata": {},
   "outputs": [
    {
     "name": "stdout",
     "output_type": "stream",
     "text": [
      "[[ 1  2  3]\n",
      " [ 4  5  6]\n",
      " [ 7  8  9]\n",
      " [10 11 12]]\n",
      "[[ 1  2  3  4]\n",
      " [ 5  6  7  8]\n",
      " [ 9 10 11 12]]\n",
      "[ 1  2  3  4  5  6  7  8  9 10 11 12]\n"
     ]
    }
   ],
   "source": [
    "#Reshape and Flatten Data.\n",
    "#reshape() : In some occations,we neead to reshape the data from wide to long.you can use reshape() function for this.\n",
    "array = np.array(([1,2,3],\n",
    "                 [4,5,6],\n",
    "                 [7,8,9],\n",
    "                 [10,11,12]))\n",
    "print(array)\n",
    "p = array.reshape(3,4)\n",
    "print(p)\n",
    "\n",
    "#flatten() : when you deal with some neural network like convnet,you need to flatten the array.you can use flatten() function.\n",
    "q = array.flatten()\n",
    "print(q)"
   ]
  },
  {
   "cell_type": "code",
   "execution_count": 8,
   "metadata": {},
   "outputs": [
    {
     "name": "stdout",
     "output_type": "stream",
     "text": [
      "Horizontal Array : [1 2 3 4 5 6]\n"
     ]
    }
   ],
   "source": [
    "#hstack and vstack in Numpy\n",
    "#hstack : with hstack you append data horizontally.\n",
    "array1 = np.array([1,2,3])\n",
    "array2 = np.array([4,5,6])\n",
    "print(\"Horizontal Array :\",np.hstack((array1,array2)))"
   ]
  },
  {
   "cell_type": "code",
   "execution_count": 9,
   "metadata": {},
   "outputs": [
    {
     "name": "stdout",
     "output_type": "stream",
     "text": [
      "Vertical Array : [[1 2 3]\n",
      " [4 5 6]]\n"
     ]
    }
   ],
   "source": [
    "#vstack : with vstack you can append data vertically.\n",
    "array1 = np.array([1,2,3])\n",
    "array2 = np.array([4,5,6])\n",
    "print(\"Vertical Array :\",np.vstack((array1,array2)))"
   ]
  },
  {
   "cell_type": "code",
   "execution_count": 10,
   "metadata": {},
   "outputs": [
    {
     "name": "stdout",
     "output_type": "stream",
     "text": [
      "[0 2 4 6 8]\n"
     ]
    }
   ],
   "source": [
    "#numpy.arange()\n",
    "a = np.arange(0,10,2)\n",
    "print(a)"
   ]
  },
  {
   "cell_type": "code",
   "execution_count": 11,
   "metadata": {},
   "outputs": [
    {
     "name": "stdout",
     "output_type": "stream",
     "text": [
      "[0.   0.25 0.5  0.75 1.  ]\n"
     ]
    }
   ],
   "source": [
    "#numpy.linespace() : linspace gives evenly spaced samples.\n",
    "a = np.linspace(0,1,num=5)\n",
    "print(a)"
   ]
  },
  {
   "cell_type": "code",
   "execution_count": null,
   "metadata": {},
   "outputs": [],
   "source": [
    "#numpy.logspace() : returns even spaced numbers on a log scale.\n"
   ]
  }
 ],
 "metadata": {
  "kernelspec": {
   "display_name": "Python 3",
   "language": "python",
   "name": "python3"
  },
  "language_info": {
   "codemirror_mode": {
    "name": "ipython",
    "version": 3
   },
   "file_extension": ".py",
   "mimetype": "text/x-python",
   "name": "python",
   "nbconvert_exporter": "python",
   "pygments_lexer": "ipython3",
   "version": "3.6.9"
  }
 },
 "nbformat": 4,
 "nbformat_minor": 2
}
